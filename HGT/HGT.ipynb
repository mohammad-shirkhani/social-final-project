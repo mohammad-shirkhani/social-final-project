{
  "nbformat": 4,
  "nbformat_minor": 0,
  "metadata": {
    "colab": {
      "provenance": []
    },
    "kernelspec": {
      "name": "python3",
      "display_name": "Python 3"
    },
    "language_info": {
      "name": "python"
    }
  },
  "cells": [
    {
      "cell_type": "code",
      "source": [
        "!pip install torch_scatter torch_sparse torch_cluster torch_spline_conv -f https://data.pyg.org/whl/torch-{torch.__version__}.html\n",
        "!pip install torch_geometric"
      ],
      "metadata": {
        "colab": {
          "base_uri": "https://localhost:8080/"
        },
        "id": "XrvUIDaXI7xd",
        "outputId": "636096f8-02f9-4144-c905-9c9551fc8397"
      },
      "execution_count": 16,
      "outputs": [
        {
          "output_type": "stream",
          "name": "stdout",
          "text": [
            "Found existing installation: torch-geometric 2.6.1\n",
            "Uninstalling torch-geometric-2.6.1:\n",
            "  Successfully uninstalled torch-geometric-2.6.1\n",
            "\u001b[33mWARNING: Skipping torch_scatter as it is not installed.\u001b[0m\u001b[33m\n",
            "\u001b[0m\u001b[33mWARNING: Skipping torch_sparse as it is not installed.\u001b[0m\u001b[33m\n",
            "\u001b[0m\u001b[33mWARNING: Skipping torch_cluster as it is not installed.\u001b[0m\u001b[33m\n",
            "\u001b[0m\u001b[33mWARNING: Skipping torch_spline_conv as it is not installed.\u001b[0m\u001b[33m\n",
            "\u001b[0mLooking in links: https://data.pyg.org/whl/torch-2.8.0+cu126.html\n",
            "Collecting torch_scatter\n",
            "  Downloading https://data.pyg.org/whl/torch-2.8.0%2Bcu126/torch_scatter-2.1.2%2Bpt28cu126-cp312-cp312-linux_x86_64.whl (10.9 MB)\n",
            "\u001b[2K     \u001b[90m━━━━━━━━━━━━━━━━━━━━━━━━━━━━━━━━━━━━━━━━\u001b[0m \u001b[32m10.9/10.9 MB\u001b[0m \u001b[31m38.8 MB/s\u001b[0m eta \u001b[36m0:00:00\u001b[0m\n",
            "\u001b[?25hCollecting torch_sparse\n",
            "  Downloading https://data.pyg.org/whl/torch-2.8.0%2Bcu126/torch_sparse-0.6.18%2Bpt28cu126-cp312-cp312-linux_x86_64.whl (5.2 MB)\n",
            "\u001b[2K     \u001b[90m━━━━━━━━━━━━━━━━━━━━━━━━━━━━━━━━━━━━━━━━\u001b[0m \u001b[32m5.2/5.2 MB\u001b[0m \u001b[31m61.2 MB/s\u001b[0m eta \u001b[36m0:00:00\u001b[0m\n",
            "\u001b[?25hCollecting torch_cluster\n",
            "  Downloading https://data.pyg.org/whl/torch-2.8.0%2Bcu126/torch_cluster-1.6.3%2Bpt28cu126-cp312-cp312-linux_x86_64.whl (3.3 MB)\n",
            "\u001b[2K     \u001b[90m━━━━━━━━━━━━━━━━━━━━━━━━━━━━━━━━━━━━━━━━\u001b[0m \u001b[32m3.3/3.3 MB\u001b[0m \u001b[31m42.5 MB/s\u001b[0m eta \u001b[36m0:00:00\u001b[0m\n",
            "\u001b[?25hCollecting torch_spline_conv\n",
            "  Downloading https://data.pyg.org/whl/torch-2.8.0%2Bcu126/torch_spline_conv-1.2.2%2Bpt28cu126-cp312-cp312-linux_x86_64.whl (1.1 MB)\n",
            "\u001b[2K     \u001b[90m━━━━━━━━━━━━━━━━━━━━━━━━━━━━━━━━━━━━━━━━\u001b[0m \u001b[32m1.1/1.1 MB\u001b[0m \u001b[31m16.9 MB/s\u001b[0m eta \u001b[36m0:00:00\u001b[0m\n",
            "\u001b[?25hRequirement already satisfied: scipy in /usr/local/lib/python3.12/dist-packages (from torch_sparse) (1.16.1)\n",
            "Requirement already satisfied: numpy<2.6,>=1.25.2 in /usr/local/lib/python3.12/dist-packages (from scipy->torch_sparse) (2.0.2)\n",
            "Installing collected packages: torch_spline_conv, torch_scatter, torch_sparse, torch_cluster\n",
            "Successfully installed torch_cluster-1.6.3+pt28cu126 torch_scatter-2.1.2+pt28cu126 torch_sparse-0.6.18+pt28cu126 torch_spline_conv-1.2.2+pt28cu126\n",
            "Collecting torch_geometric\n",
            "  Using cached torch_geometric-2.6.1-py3-none-any.whl.metadata (63 kB)\n",
            "Requirement already satisfied: aiohttp in /usr/local/lib/python3.12/dist-packages (from torch_geometric) (3.12.15)\n",
            "Requirement already satisfied: fsspec in /usr/local/lib/python3.12/dist-packages (from torch_geometric) (2025.3.0)\n",
            "Requirement already satisfied: jinja2 in /usr/local/lib/python3.12/dist-packages (from torch_geometric) (3.1.6)\n",
            "Requirement already satisfied: numpy in /usr/local/lib/python3.12/dist-packages (from torch_geometric) (2.0.2)\n",
            "Requirement already satisfied: psutil>=5.8.0 in /usr/local/lib/python3.12/dist-packages (from torch_geometric) (5.9.5)\n",
            "Requirement already satisfied: pyparsing in /usr/local/lib/python3.12/dist-packages (from torch_geometric) (3.2.3)\n",
            "Requirement already satisfied: requests in /usr/local/lib/python3.12/dist-packages (from torch_geometric) (2.32.4)\n",
            "Requirement already satisfied: tqdm in /usr/local/lib/python3.12/dist-packages (from torch_geometric) (4.67.1)\n",
            "Requirement already satisfied: aiohappyeyeballs>=2.5.0 in /usr/local/lib/python3.12/dist-packages (from aiohttp->torch_geometric) (2.6.1)\n",
            "Requirement already satisfied: aiosignal>=1.4.0 in /usr/local/lib/python3.12/dist-packages (from aiohttp->torch_geometric) (1.4.0)\n",
            "Requirement already satisfied: attrs>=17.3.0 in /usr/local/lib/python3.12/dist-packages (from aiohttp->torch_geometric) (25.3.0)\n",
            "Requirement already satisfied: frozenlist>=1.1.1 in /usr/local/lib/python3.12/dist-packages (from aiohttp->torch_geometric) (1.7.0)\n",
            "Requirement already satisfied: multidict<7.0,>=4.5 in /usr/local/lib/python3.12/dist-packages (from aiohttp->torch_geometric) (6.6.4)\n",
            "Requirement already satisfied: propcache>=0.2.0 in /usr/local/lib/python3.12/dist-packages (from aiohttp->torch_geometric) (0.3.2)\n",
            "Requirement already satisfied: yarl<2.0,>=1.17.0 in /usr/local/lib/python3.12/dist-packages (from aiohttp->torch_geometric) (1.20.1)\n",
            "Requirement already satisfied: MarkupSafe>=2.0 in /usr/local/lib/python3.12/dist-packages (from jinja2->torch_geometric) (3.0.2)\n",
            "Requirement already satisfied: charset_normalizer<4,>=2 in /usr/local/lib/python3.12/dist-packages (from requests->torch_geometric) (3.4.3)\n",
            "Requirement already satisfied: idna<4,>=2.5 in /usr/local/lib/python3.12/dist-packages (from requests->torch_geometric) (3.10)\n",
            "Requirement already satisfied: urllib3<3,>=1.21.1 in /usr/local/lib/python3.12/dist-packages (from requests->torch_geometric) (2.5.0)\n",
            "Requirement already satisfied: certifi>=2017.4.17 in /usr/local/lib/python3.12/dist-packages (from requests->torch_geometric) (2025.8.3)\n",
            "Requirement already satisfied: typing-extensions>=4.2 in /usr/local/lib/python3.12/dist-packages (from aiosignal>=1.4.0->aiohttp->torch_geometric) (4.15.0)\n",
            "Using cached torch_geometric-2.6.1-py3-none-any.whl (1.1 MB)\n",
            "Installing collected packages: torch_geometric\n",
            "Successfully installed torch_geometric-2.6.1\n"
          ]
        }
      ]
    },
    {
      "cell_type": "code",
      "source": [
        "import torch\n",
        "import torch.nn.functional as F\n",
        "from torch.nn import Embedding, Linear\n",
        "\n",
        "import pandas as pd\n",
        "from sklearn.preprocessing import LabelEncoder\n",
        "from sklearn.metrics import mean_squared_error\n",
        "import numpy as np\n",
        "\n",
        "import urllib.request\n",
        "import zipfile\n",
        "\n",
        "from torch_geometric.data import HeteroData\n",
        "from torch_geometric.nn import GATConv, to_hetero\n",
        "from torch_geometric.transforms import ToUndirected, RandomLinkSplit"
      ],
      "metadata": {
        "id": "B0yuBh_DIJwx"
      },
      "execution_count": 17,
      "outputs": []
    },
    {
      "cell_type": "code",
      "source": [
        "url = 'http://files.grouplens.org/datasets/movielens/ml-100k.zip'\n",
        "urllib.request.urlretrieve(url, 'ml-100k.zip')\n",
        "with zipfile.ZipFile('ml-100k.zip', 'r') as zip_ref:\n",
        "    zip_ref.extractall()\n",
        "\n",
        "ratings_df = pd.read_csv('ml-100k/u.data', sep='\\t', names=['user_id', 'movie_id', 'rating', 'timestamp'])\n",
        "user_encoder = LabelEncoder()\n",
        "movie_encoder = LabelEncoder()\n",
        "ratings_df['user_idx'] = user_encoder.fit_transform(ratings_df['user_id'])\n",
        "ratings_df['movie_idx'] = movie_encoder.fit_transform(ratings_df['movie_id'])\n",
        "\n",
        "data = HeteroData()\n",
        "data['user'].num_nodes = len(user_encoder.classes_)\n",
        "data['movie'].num_nodes = len(movie_encoder.classes_)\n",
        "\n",
        "data['user', 'rates', 'movie'].edge_index = torch.tensor([\n",
        "    ratings_df['user_idx'].values,\n",
        "    ratings_df['movie_idx'].values\n",
        "], dtype=torch.long)\n",
        "data['user', 'rates', 'movie'].edge_label = torch.tensor(ratings_df['rating'].values, dtype=torch.float)\n",
        "\n",
        "data = ToUndirected()(data)\n",
        "\n",
        "print(data)"
      ],
      "metadata": {
        "colab": {
          "base_uri": "https://localhost:8080/"
        },
        "id": "IafjaDrEIMyP",
        "outputId": "0e007a69-7658-4813-ff08-8c21728a9407"
      },
      "execution_count": 18,
      "outputs": [
        {
          "output_type": "stream",
          "name": "stdout",
          "text": [
            "در حال دانلود دیتاست MovieLens 100K...\n",
            "دیتاست با موفقیت دانلود شد.\n",
            "\n",
            "ساختار گراف ساخته شد:\n",
            "HeteroData(\n",
            "  user={ num_nodes=943 },\n",
            "  movie={ num_nodes=1682 },\n",
            "  (user, rates, movie)={\n",
            "    edge_index=[2, 100000],\n",
            "    edge_label=[100000],\n",
            "  },\n",
            "  (movie, rev_rates, user)={\n",
            "    edge_index=[2, 100000],\n",
            "    edge_label=[100000],\n",
            "  }\n",
            ")\n"
          ]
        }
      ]
    },
    {
      "cell_type": "code",
      "source": [
        "print(\"Splitting the data...\")\n",
        "original_ratings = data['user', 'rates', 'movie'].edge_label\n",
        "num_ratings = data['user', 'rates', 'movie'].num_edges\n",
        "data['user', 'rates', 'movie'].edge_label = torch.arange(num_ratings)\n",
        "transform = RandomLinkSplit(\n",
        "    num_val=0.1,\n",
        "    num_test=0.1,\n",
        "    is_undirected=True,\n",
        "    add_negative_train_samples=False,\n",
        "    edge_types=[('user', 'rates', 'movie')],\n",
        "    rev_edge_types=[('movie', 'rev_rates', 'user')],\n",
        ")\n",
        "train_data, val_data, test_data = transform(data)\n",
        "train_data['user', 'rates', 'movie'].edge_label = original_ratings[train_data['user', 'rates', 'movie'].edge_label]\n",
        "val_data['user', 'rates', 'movie'].edge_label = original_ratings[val_data['user', 'rates', 'movie'].edge_label]\n",
        "test_data['user', 'rates', 'movie'].edge_label = original_ratings[test_data['user', 'rates', 'movie'].edge_label]\n",
        "\n",
        "print(\"Data successfully split.\")\n",
        "print(\"\\nTraining Data:\\n\", train_data)\n",
        "print(\"\\nTest Data:\\n\", test_data)"
      ],
      "metadata": {
        "colab": {
          "base_uri": "https://localhost:8080/"
        },
        "id": "jsk-NcrIIau_",
        "outputId": "afda0a6a-09b9-4e29-8fb9-b6571d2614e3"
      },
      "execution_count": 19,
      "outputs": [
        {
          "output_type": "stream",
          "name": "stdout",
          "text": [
            "Splitting the data...\n",
            "Data successfully split.\n",
            "\n",
            "Training Data:\n",
            " HeteroData(\n",
            "  user={ num_nodes=943 },\n",
            "  movie={ num_nodes=1682 },\n",
            "  (user, rates, movie)={\n",
            "    edge_index=[2, 80000],\n",
            "    edge_label=[80000],\n",
            "    edge_label_index=[2, 80000],\n",
            "  },\n",
            "  (movie, rev_rates, user)={\n",
            "    edge_index=[2, 80000],\n",
            "    edge_label=[80000],\n",
            "  }\n",
            ")\n",
            "\n",
            "Test Data:\n",
            " HeteroData(\n",
            "  user={ num_nodes=943 },\n",
            "  movie={ num_nodes=1682 },\n",
            "  (user, rates, movie)={\n",
            "    edge_index=[2, 90000],\n",
            "    edge_label=[20000],\n",
            "    edge_label_index=[2, 20000],\n",
            "  },\n",
            "  (movie, rev_rates, user)={\n",
            "    edge_index=[2, 90000],\n",
            "    edge_label=[90000],\n",
            "  }\n",
            ")\n"
          ]
        }
      ]
    },
    {
      "cell_type": "code",
      "source": [
        "class GNNEncoder(torch.nn.Module):\n",
        "    def __init__(self, hidden_channels, out_channels):\n",
        "        super().__init__()\n",
        "        self.conv1 = GATConv((-1, -1), hidden_channels)\n",
        "        self.conv2 = GATConv((-1, -1), out_channels)\n",
        "    def forward(self, x, edge_index):\n",
        "        x = self.conv1(x, edge_index).relu()\n",
        "        x = self.conv2(x, edge_index)\n",
        "        return x\n",
        "\n",
        "class EdgeDecoder(torch.nn.Module):\n",
        "    def __init__(self, hidden_channels):\n",
        "        super().__init__()\n",
        "        self.lin1 = Linear(2 * hidden_channels, hidden_channels)\n",
        "        self.lin2 = Linear(hidden_channels, 1)\n",
        "\n",
        "    def forward(self, z_dict, edge_label_index):\n",
        "        user_embed = z_dict['user'][edge_label_index[0]]\n",
        "        movie_embed = z_dict['movie'][edge_label_index[1]]\n",
        "        concat = torch.cat([user_embed, movie_embed], dim=-1)\n",
        "        x = self.lin1(concat).relu()\n",
        "        x = self.lin2(x)\n",
        "        return x.view(-1)\n",
        "\n",
        "from torch_geometric.nn import HGTConv\n",
        "class Model(torch.nn.Module):\n",
        "    def __init__(self, hidden_channels):\n",
        "        super().__init__()\n",
        "        self.user_emb = Embedding(data['user'].num_nodes, hidden_channels)\n",
        "        self.movie_emb = Embedding(data['movie'].num_nodes, hidden_channels)\n",
        "        self.encoder = HGTConv(-1, hidden_channels, data.metadata(), heads=2)\n",
        "        self.decoder = EdgeDecoder(hidden_channels)\n",
        "\n",
        "    def forward(self, x_dict, edge_index_dict, edge_label_index):\n",
        "        z_dict = self.encoder(x_dict, edge_index_dict)\n",
        "        return self.decoder(z_dict, edge_label_index)\n"
      ],
      "metadata": {
        "colab": {
          "base_uri": "https://localhost:8080/"
        },
        "id": "cXjrHyHjIhvd",
        "outputId": "9c416b1a-fdd5-4352-c50e-d3b9a55b0d78"
      },
      "execution_count": 20,
      "outputs": [
        {
          "output_type": "stream",
          "name": "stdout",
          "text": [
            "معماری مدل با HGTConv (برای رفع خطا) با موفقیت تعریف شد.\n",
            "معماری مدل با موفقیت تعریف شد.\n"
          ]
        }
      ]
    },
    {
      "cell_type": "code",
      "source": [
        "from torch_geometric.loader import DataLoader\n",
        "train_loader = DataLoader(train_data, batch_size=64, shuffle=True)\n",
        "val_loader = DataLoader(val_data, batch_size=64, shuffle=False)\n",
        "test_loader = DataLoader(test_data, batch_size=64, shuffle=False)"
      ],
      "metadata": {
        "id": "D7kV5UirI5mK"
      },
      "execution_count": 21,
      "outputs": []
    },
    {
      "cell_type": "code",
      "source": [
        "device = torch.device('cuda' if torch.cuda.is_available() else 'cpu')\n",
        "print(f\"استفاده از دستگاه: {device}\")\n",
        "\n",
        "model = Model(hidden_channels=64).to(device)\n",
        "with torch.no_grad():\n",
        "  model.user_emb.weight.data.uniform_(-0.5, 0.5)\n",
        "  model.movie_emb.weight.data.uniform_(-0.5, 0.5)\n",
        "\n",
        "optimizer = torch.optim.Adam(model.parameters(), lr=0.005, weight_decay=5e-4)\n",
        "scheduler = torch.optim.lr_scheduler.StepLR(optimizer, step_size=10, gamma=0.1)\n",
        "scheduler.step()\n",
        "loss_fn = torch.nn.MSELoss()"
      ],
      "metadata": {
        "colab": {
          "base_uri": "https://localhost:8080/"
        },
        "id": "e9HFk6RvKF9y",
        "outputId": "49e2c7bd-bbb5-48d9-90f7-0d23ee359f00"
      },
      "execution_count": 22,
      "outputs": [
        {
          "output_type": "stream",
          "name": "stdout",
          "text": [
            "استفاده از دستگاه: cpu\n"
          ]
        },
        {
          "output_type": "stream",
          "name": "stderr",
          "text": [
            "/usr/local/lib/python3.12/dist-packages/torch/optim/lr_scheduler.py:192: UserWarning: Detected call of `lr_scheduler.step()` before `optimizer.step()`. In PyTorch 1.1.0 and later, you should call them in the opposite order: `optimizer.step()` before `lr_scheduler.step()`.  Failure to do this will result in PyTorch skipping the first value of the learning rate schedule. See more details at https://pytorch.org/docs/stable/optim.html#how-to-adjust-learning-rate\n",
            "  warnings.warn(\n"
          ]
        }
      ]
    },
    {
      "cell_type": "code",
      "source": [
        "def train():\n",
        "    model.train()\n",
        "    optimizer.zero_grad()\n",
        "    x_dict = {\n",
        "        \"user\": model.user_emb.weight,\n",
        "        \"movie\": model.movie_emb.weight\n",
        "    }\n",
        "    pred = model(x_dict, train_data.edge_index_dict, train_data['user', 'rates', 'movie'].edge_label_index)\n",
        "    target = train_data['user', 'rates', 'movie'].edge_label\n",
        "    loss = loss_fn(pred, target)\n",
        "    loss.backward()\n",
        "    optimizer.step()\n",
        "    return float(loss)\n",
        "\n",
        "@torch.no_grad()\n",
        "def test(d):\n",
        "    model.eval()\n",
        "    x_dict = {\n",
        "        \"user\": model.user_emb.weight,\n",
        "        \"movie\": model.movie_emb.weight\n",
        "    }\n",
        "    pred = model(x_dict, d.edge_index_dict, d['user', 'rates', 'movie'].edge_label_index)\n",
        "    target = d['user', 'rates', 'movie'].edge_label\n",
        "    mse = mean_squared_error(target.cpu().numpy(), pred.cpu().numpy())\n",
        "    rmse = np.sqrt(mse)\n",
        "\n",
        "    return float(rmse)\n",
        "\n",
        "best_val_rmse = float('inf')\n",
        "patience = 10\n",
        "epochs_no_improve = 0\n",
        "\n",
        "for epoch in range(1, 51):\n",
        "    loss = train()\n",
        "    val_rmse = test(val_data)\n",
        "\n",
        "    if epoch % 10 == 0:\n",
        "        print(f'Epoch: {epoch:03d}, Loss: {loss:.4f}, Val RMSE: {val_rmse:.4f}')\n",
        "\n",
        "    if val_rmse < best_val_rmse:\n",
        "        best_val_rmse = val_rmse\n",
        "        epochs_no_improve = 0\n",
        "        torch.save(model.state_dict(), 'best_model.pth')\n",
        "    else:\n",
        "        epochs_no_improve += 1\n",
        "\n",
        "    if epochs_no_improve == patience:\n",
        "        print(f'\\nValidation RMSE did not improve for {patience} epochs. Early stopping!')\n",
        "        break\n",
        "\n",
        "model.load_state_dict(torch.load('best_model.pth'))\n",
        "print(\"\\nTraining process finished. Best model loaded.\")"
      ],
      "metadata": {
        "colab": {
          "base_uri": "https://localhost:8080/"
        },
        "id": "nXrHj8drKpAk",
        "outputId": "b5c5cd9e-b18b-4d32-c01f-120d2baf5a14"
      },
      "execution_count": 24,
      "outputs": [
        {
          "output_type": "stream",
          "name": "stdout",
          "text": [
            "Starting the training process with Early Stopping...\n",
            "Epoch: 010, Loss: 1.1439, Val RMSE: 0.9099\n",
            "\n",
            "Validation RMSE did not improve for 10 epochs. Early stopping!\n",
            "\n",
            "Training process finished. Best model loaded.\n"
          ]
        }
      ]
    },
    {
      "cell_type": "code",
      "source": [],
      "metadata": {
        "id": "OVOj7NxaPAza"
      },
      "execution_count": null,
      "outputs": []
    }
  ]
}